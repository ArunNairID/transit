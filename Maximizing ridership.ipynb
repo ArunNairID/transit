{
 "cells": [
  {
   "cell_type": "markdown",
   "metadata": {},
   "source": [
    "Last time we saw how endogenous demand constraints an agency's choices for the design of a transit system. The discussion was fairly general; we didn't actually solve for the design choices that meet each goal. Today we will use [Lagrange multipliers](https://en.wikipedia.org/wiki/Lagrange_multiplier) to find the choices that fit our goals. In particular, we'll look at ridership maximization. \n",
    "\n",
    "If you are totally unfamiliar with Lagrange multipliers, come to office hours or discussion and ask questions. Even if you're not familiar, though, you'll probably be able to follow along and learn about them."
   ]
  },
  {
   "cell_type": "markdown",
   "metadata": {},
   "source": [
    "## Maximizing ridership\n",
    "\n",
    "Suppose that you have a system with the demand curve\n",
    "\n",
    "$$\n",
    "Q = a - c_PP - \\frac{c_W}{2F}\n",
    "$$\n",
    "\n",
    "and total costs ($TC$)\n",
    "\n",
    "$$\n",
    "TC = b + c_FF\n",
    "$$\n",
    "\n",
    "Your job is to maximize $Q$ while breaking even."
   ]
  },
  {
   "cell_type": "markdown",
   "metadata": {},
   "source": [
    "To solve we set up the problem as the equation...\n",
    "\n",
    "$$\n",
    "L = Q + \\lambda (PQ - TC).\n",
    "$$\n",
    "\n",
    "Now we take the first-order conditions of $L$ with respect to $P$, $F$ and $\\lambda$.\n",
    "\n",
    "$$\n",
    "\\frac{\\partial L}{\\partial P } = Q_P + \\lambda (PQ_P+Q)=0\n",
    "$$\n",
    "\n",
    "$$\n",
    "\\frac{\\partial L}{\\partial F } = Q_F + \\lambda (PQ_F-c_F)=0\n",
    "$$\n",
    "\n",
    "$$\n",
    "\\frac{\\partial L}{\\partial \\lambda } =PQ - TC=0\n",
    "$$\n",
    "\n",
    "The first and second equations become\n",
    "\n",
    "$$\n",
    "Q_P(1+\\lambda P) = -\\lambda Q\n",
    "$$\n",
    "and\n",
    "$$\n",
    "Q_F(1+\\lambda P) = \\lambda c_F.\n",
    "$$\n",
    "\n",
    "\n",
    "Dividing the one by the other yields\n",
    "\n",
    "$$\n",
    "\\frac{Q_P}{Q_F} = \\frac{Q}{c_F}.\n",
    "$$\n",
    "\n",
    "Now plug in the identities $Q_P=-c_P$ and $Q_F=c_W/(2F^2)$\n",
    "\n",
    "$$\n",
    "\\frac{2c_PF^2}{c_W}=\\frac{Q}{c_F}\n",
    "$$\n",
    "\n",
    "and solve for $F$ to obtain\n",
    "\n",
    "$$\n",
    "F^*(Q)=\\sqrt{\\frac{c_W}{2c_Fc_P}Q}.\n",
    "$$\n",
    "\n",
    "Now plug in $F^*(Q)$ into the third equation (the budget constraint) to obtain...\n",
    "\n",
    "$$\n",
    "P*Q - b - c_F*F^*(Q)$ = 0\n",
    "$$\n",
    "\n",
    "Get rid of the $P$ by writing it as the inverse demand curve\n",
    "\n",
    "$$\n",
    "P^*(Q) = \\frac{1}{c_P}\\left(a - Q - \\frac{c_W}{2F^*(Q)} \\right),\n",
    "$$\n",
    "\n",
    "which yields\n",
    "\n",
    "$$\n",
    "P^*(Q)Q - b - c_FF^*(Q) = 0.\n",
    "$$\n",
    "\n",
    "This is an equation in one variable, $Q$, and so you can solve it numerically. Below, is an example of how to do that using the scipy package in Python.Once you find $Q^*$, you can find $P^*$, $F^*$ and $\\lambda$. How do you interpret $\\lambda$? It's the amount of additional ridership you could obtain by relaxing the budget constraint by one unit---i.e., if you were allowed to lose one additional dollar."
   ]
  },
  {
   "cell_type": "code",
   "execution_count": 2,
   "metadata": {
    "collapsed": false
   },
   "outputs": [
    {
     "name": "stdout",
     "output_type": "stream",
     "text": [
      "[ 484.64108511]\n"
     ]
    },
    {
     "data": {
      "image/png": "[encoded data removed]",
      "text/plain": [
       "<matplotlib.figure.Figure at 0x10ba6df90>"
      ]
     },
     "metadata": {},
     "output_type": "display_data"
    }
   ],
   "source": [
    "import numpy as np\n",
    "from scipy.optimize import root\n",
    "import matplotlib.pyplot as plt\n",
    "#the parameters\n",
    "a = 600\n",
    "c_P = 48\n",
    "c_W = 566\n",
    "c_F = 24\n",
    "b = 641\n",
    "\n",
    "def Fstar(Q):\n",
    "    return np.sqrt(c_W * Q/ (2*c_F*c_P) )\n",
    "\n",
    "def Pstar(Q):\n",
    "    return 1./c_P*(a - Q - c_W/(2.*Fstar(Q)))\n",
    "\n",
    "def breakEvenConstraint(Q):\n",
    "    return Q*Pstar(Q) - b - c_F*Fstar(Q) # the equation for which you're going to find the root\n",
    "\n",
    "solution = root(breakEvenConstraint,500) # the second number here \n",
    "print(solution.x)\n",
    "\n",
    "plt.plot(np.linspace(2,700),breakEvenConstraint(np.linspace(2,700)))\n",
    "plt.show()"
   ]
  }
 ],
 "metadata": {
  "anaconda-cloud": {},
  "kernelspec": {
   "display_name": "Python [conda root]",
   "language": "python",
   "name": "conda-root-py"
  },
  "language_info": {
   "codemirror_mode": {
    "name": "ipython",
    "version": 2
   },
   "file_extension": ".py",
   "mimetype": "text/x-python",
   "name": "python",
   "nbconvert_exporter": "python",
   "pygments_lexer": "ipython2",
   "version": "2.7.12"
  }
 },
 "nbformat": 4,
 "nbformat_minor": 2
}
