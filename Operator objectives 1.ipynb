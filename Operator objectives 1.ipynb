{
 "cells": [
  {
   "cell_type": "markdown",
   "metadata": {},
   "source": [
    "# Operator objectives\n",
    "\n",
    "Transit might be provided by the government today, but it's not like elementary education or police service or social security, because people have a free choice of whether to make use of it. In that sense, transit can be thought of as an ordinary consumer product---like Cheerios or headphones or whatever.\n",
    "\n",
    "In other ways, transit is *not* a typical consumer product.  As we saw in [User Inputs and Scale Economies](https://github.com/lewis500/transit/blob/master/User%20Inputs%20and%20Scale%20Economies.ipynb), what distinguishes transit is that the *quality* and *quantity* of service are intertwined.  Compare transit to Cheerios: when I eat cheerios, it doesn't matter to me how many other people are doing so, as long as there is enough demand to keep at least one Cheerios factory going. My decision to ride transit, on the other hand, is affected by and affects the decisions of other potential riders, because it makes viable certain headways and route densities.\n",
    "\n",
    "This entanglement means that questions of supply and demand are more complicated when applied to transit. In this lecture we'll look at models that illuiminate specific consequences."
   ]
  },
  {
   "cell_type": "markdown",
   "metadata": {},
   "source": [
    "In the last lecture, we assumed that ridership, $Q$, was fixed. That's not very realistic. In reality, ridership will depend on service variables that we as engineers help choose for the bus agency.\n",
    "\n",
    "Suppose demand for your bus line obeys this ridership equation:\n",
    "\n",
    "$$\n",
    "Q(P,F) = a - c_P P - \\frac{c_W}{2F}.\n",
    "$$\n",
    "\n",
    "Recall that average wait time is $1/2F$. This equation states that for every unit I increase the price, demand falls by $c_P$, and for every unit wait time rises, demand falls by $c_W$.\n",
    "\n",
    "This equation begets an \"inverse demand curve\" found by solving for $P$...\n",
    "\n",
    "$$\n",
    "P(Q,F) = \\frac{1}{c_P}\\left(a - Q - \\frac{c_W}{2F} \\right)\n",
    "$$\n",
    "\n",
    "This is the price required to get exactly $Q$ people to ride, given that frequency is $F$. Confirm for yourself that it falls with $Q$ and rises with $F$. Lets plot it out."
   ]
  },
  {
   "cell_type": "code",
   "execution_count": 27,
   "metadata": {
    "collapsed": false
   },
   "outputs": [
    {
     "data": {
      "image/png": "[encoded data removed]",
      "text/plain": [
       "<matplotlib.figure.Figure at 0x10bef5290>"
      ]
     },
     "metadata": {},
     "output_type": "display_data"
    },
    {
     "data": {
      "text/plain": [
       "<matplotlib.figure.Figure at 0x10baa3ed0>"
      ]
     },
     "metadata": {},
     "output_type": "display_data"
    }
   ],
   "source": [
    "import numpy as np\n",
    "from ipywidgets import interact\n",
    "import matplotlib.pyplot as plt\n",
    "\n",
    "a = 2.4\n",
    "c_W = 1\n",
    "c_F = 0.8\n",
    "c_P = 0.6\n",
    "F = 1.0\n",
    "\n",
    "def f(F):\n",
    "    PCurve = np.vectorize(lambda Q: 1./c_P* (a - Q - c_W/(2.*F)))\n",
    "    q = np.linspace(0,2)\n",
    "    plt.plot(q,PCurve(q))\n",
    "    plt.xlim([0,2])\n",
    "    plt.ylim([0,plt.ylim()[1]])\n",
    "    plt.figure(figsize=(3,2))\n",
    "    plt.show()\n",
    "\n",
    "interact(f, F=(0.,2.))\n",
    "# Q = np.vectorize(lambda P: a - c_P*P-c_W/w*F)\n"
   ]
  }
 ],
 "metadata": {
  "anaconda-cloud": {},
  "kernelspec": {
   "display_name": "Python [conda root]",
   "language": "python",
   "name": "conda-root-py"
  },
  "language_info": {
   "codemirror_mode": {
    "name": "ipython",
    "version": 2
   },
   "file_extension": ".py",
   "mimetype": "text/x-python",
   "name": "python",
   "nbconvert_exporter": "python",
   "pygments_lexer": "ipython2",
   "version": "2.7.12"
  },
  "widgets": {
   "state": {
    "26ca7b83e06b463191896ffc3b9616ff": {
     "views": [
      {
       "cell_index": 2
      }
     ]
    }
   },
   "version": "1.2.0"
  }
 },
 "nbformat": 4,
 "nbformat_minor": 2
}
