{
 "cells": [
  {
   "cell_type": "markdown",
   "metadata": {},
   "source": [
    "# Homework 1"
   ]
  },
  {
   "cell_type": "markdown",
   "metadata": {},
   "source": [
    "For both these problems, show your work.\n",
    "\n",
    "## Problem 1\n",
    "Suppose you're running a bus agency with a demand curve given by \n",
    "\n",
    "$$\n",
    " Q = a - c_P*P - c_W * \\sqrt{W},\n",
    "$$\n",
    "where \n",
    "$$\n",
    "W \\textrm{(average wait)} := \\frac{1}{2F}.\n",
    "$$\n",
    "\n",
    "Note this is specification different than the cases we looked at in class: it implies that people care about the *square root* of wait time.\n",
    "\n",
    "\n",
    "Total costs are given by \n",
    "\n",
    "$$\n",
    "\tTC = c_F F + b.\n",
    "$$\n",
    "\n",
    "\n",
    "The parameters are...\n",
    "\n",
    "+ $a = 30$\n",
    "+ $b = 10$\n",
    "+ $c_F = 15$\n",
    "+ $c_W = 14$\n",
    "+ $c_P=2.0$\n",
    "\n",
    "\n",
    "1. Total social welfare is equal to the sum of the consumer surplus, $CS$, and the agency's profit, $\\pi$. Consumer surplus can be found by the expression $$CS := \\int_{0}^{Q}P(q)dq - P(Q).$$ Find the $P/Q/F$ combination that maximizes total social welfare without any budget constraint. How much money does the agency lose?\n",
    "1. Choose $P/Q/F$ to maximize ridership while meeting the agency's budget constraint $ PQ = TC.$ Also, write the algebraic relationship between optimal ridership, $Q^*$, and optimal frequency, $F^*$.\n",
    "1. Choose $P/Q/F$ to maximize frequency while meeting the budget constraint.\n",
    "1. Draw the feasibility contour for this problem in a Desmos notebook."
   ]
  },
  {
   "cell_type": "markdown",
   "metadata": {},
   "source": [
    "## Problem 2\n",
    "\n",
    "Suppose that ridership is now \n",
    "\n",
    "$$\n",
    "ln(Q) = a - c_P P - \\frac{c_W}{2F},\n",
    "$$\n",
    "\n",
    "and total cost is \n",
    "\n",
    "$$\n",
    "TC = c_F F.\n",
    "$$\n",
    "\n",
    "Only this time you get a subsidy of $S$. This is how much money your service is allowed to lose.\n",
    "\n",
    "The parameters are...\n",
    "\n",
    "+ $a=10$\n",
    "+ $c_P = 0.1$\n",
    "+ $c_W = 1.6$\n",
    "+ $c_F=8000$\n",
    "+ $S = 2000$\n",
    "\n",
    "\n",
    "1. Choose $P/Q/F$ to maximize ridership, $Q$. Hint: $12000 < Q < 16000$. About how much extra ridership could you get if you got another $\\$1000$ in subsidy?\n",
    "1. Choose $P/Q/F$ to maximize frequency, $F$.\n",
    "1. Choose $P/Q/F$ to maximize consumer surplus"
   ]
  }
 ],
 "metadata": {
  "anaconda-cloud": {},
  "kernelspec": {
   "display_name": "Python [conda root]",
   "language": "python",
   "name": "conda-root-py"
  },
  "language_info": {
   "codemirror_mode": {
    "name": "ipython",
    "version": 2
   },
   "file_extension": ".py",
   "mimetype": "text/x-python",
   "name": "python",
   "nbconvert_exporter": "python",
   "pygments_lexer": "ipython2",
   "version": "2.7.12"
  }
 },
 "nbformat": 4,
 "nbformat_minor": 2
}
